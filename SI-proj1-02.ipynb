{
 "cells": [
  {
   "cell_type": "markdown",
   "id": "bf9c87b1",
   "metadata": {},
   "source": [
    "# Sistemas Inteligentes 2021/2022\n",
    "\n",
    "## Mini-projeto 1: Pacman comilão\n",
    "\n",
    "<img src=\"pacman.png\" alt=\"Drawing\" style=\"width: 100px;\"/>"
   ]
  },
  {
   "cell_type": "markdown",
   "id": "d7b8efca",
   "metadata": {},
   "source": [
    "## Grupo: 02\n",
    "\n",
    "### Elementos do Grupo\n",
    "\n",
    "Número: 55852       Nome: Marcos Leitão\n",
    "\n",
    "Número: 56909       Nome: Miguel Fernandes       \n"
   ]
  },
  {
   "cell_type": "markdown",
   "id": "df10acb0",
   "metadata": {},
   "source": [
    "## Representação dos estados"
   ]
  },
  {
   "cell_type": "markdown",
   "id": "f835e21e",
   "metadata": {},
   "source": [
    "Vamos formular um problema de navegação, numa grelha 2D em que algumas posições são obstáculos que impedem o nosso Pacman comlião de avançar.\n",
    "O **estado vai ser um tuplo de tuplos em que cada tuplo contém a sua identificação e a sua representação**.\n",
    "Portanto o nosso estado que é tuplo, irá conter um tuplo com identificação 'posicaoPacman' e cordenadas (x,y), em que x corresponde à coluna e y à linha, um tuplo com identificação 'pacmanPassagens' e as passagens do nosso Pacman comilão, um tuplo com identificação 'pastilhasEmCampo' e as pastilhas em campo, um tuplo com identificação 'ponto' e os pontos ja conquistados e por fim um tuplo com identificação 't' e um valor que corresponde ao tempo decorrido até a pastilha ser apanhada.\n"
   ]
  },
  {
   "cell_type": "markdown",
   "id": "403d8097",
   "metadata": {},
   "source": [
    "Assim um estado inicial, por exemplo ficará com a seguinte representação:\n",
    "\n",
    "* ( ('posicaoPacman',(1,1)), ('pacmanPassagens' ,tuple([(1,1)])), ('pastilhasEmCampo', tuple({})), ('ponto',0), ('t',0) )\n",
    "\n",
    "em que a posição inicial do Pacman comilão é (1,1), as passagens do pacman apenas contém a posição inicial, pois foi a primeira passagem, as pastilhas em campo neste caso não há, pontos a 0 e t a 0."
   ]
  },
  {
   "cell_type": "markdown",
   "id": "4ab69211",
   "metadata": {},
   "source": [
    "## Formulação do problema"
   ]
  },
  {
   "cell_type": "markdown",
   "id": "1957a781",
   "metadata": {},
   "source": [
    "**Estados:** ( (Posicao Pacman comilão (x,y)), (Passagens do Pacman comilão), (Pastilhas em Campo), (pontos), (t) )\n",
    "\n",
    "**Estado Inicial:** ( (Posicao Pacman comilão,(x,y)), (Passagens do Pacman comilão, tuple([(x,y)])) , (Pastilhas em Campo, tuple(O conjunto de pastilhas) ), (pontos,0), (t,0) ) \n",
    "\n",
    "**Estado Final:** ( (Posicao Pacman comilão,(x,y)), (Passagens do Pacman comilão, tuple([Passagens])) , (Pastilhas em Campo, tuple(O conjunto de pastilhas em Campo) ), <span style='color:green'> **(pontos,goal)**</span>, (t,t+=1) ) \n",
    "\n",
    "**Ações:** (N,O,E,S) de acordo com a possibilidade de navegação\n",
    "\n",
    "**Sucessor:** Nova localização se possível, adiciona a posicão anterior as passagens do Pacman, retira a pastilha do campo(1), incrementa ponto(2) e incrementa t(3)\n",
    "\n",
    "    (1) retira a pastilha do campo caso tenha consumido essa mesma pastilha\n",
    "    (2) incrementa ponto se comer pastilha N, D ou C, em que as pastilhas normais (N) que valem 1 ponto, as pastilhas de         desgaste (D) que valem max(0,5-t) pontos e as pastilhas de crescimento (C) que valem t pontos\n",
    "    (3) incrementa t apenas se o Pacman estiver numa nova localização\n",
    "\n",
    "**Custo:** Custos das acções dependem da frequência com que visita as células que delas resultam. Quando visita uma célula pela primeira vez o custo é de 1, mas quando a visita pela n-ésima vez o custo é de n.\n",
    "\n",
    "**Teste de objetivo:** Ponto >= Goal\n",
    "\n",
    "\n",
    "         \n",
    "\n"
   ]
  },
  {
   "cell_type": "markdown",
   "id": "e9259a0e",
   "metadata": {},
   "source": [
    "## Definição da classe PacmanPastilhas\n",
    "<span style='color:red'> **Importante !!**</span> \n",
    "\n",
    "Para criação de um problema **PacmanPastilhas**, o construtor deve receber como parâmetros:  \n",
    "\n",
    "* A posição do pacman, \n",
    "* O número de pontos M a atingir o objetivo do problema), \n",
    "* O conjunto de pastilhas, \n",
    "* O conjunto de obstáculos,\n",
    "* A dimensão do mundo.\n",
    "\n",
    "O problema PacmanPastilhas trata de construir um estado inicial a partir dos parametros introduzidos pelo utilizador e é obrigatório a inserção dos parâmetros. "
   ]
  },
  {
   "cell_type": "code",
   "execution_count": 5,
   "id": "1fc30016",
   "metadata": {},
   "outputs": [],
   "source": [
    "from searchPlus import *\n",
    "   \n",
    "class PacmanPastilhas(Problem):\n",
    "    \n",
    "    def __init__(self,pacman,goal,pastilhas,obstacles,dim): \n",
    "        \n",
    "        lista = list()\n",
    "        for key,value in pastilhas.items(): \n",
    "            \n",
    "            if type(value) == tuple:\n",
    "                lista.append((key,value))\n",
    "            else:\n",
    "                lista.append((key,tuple(value))) \n",
    "        \n",
    "        passagens = tuple([pacman])\n",
    "            \n",
    "        initial = ( ('posicaoPacman',pacman), ('pacmanPassagens', passagens ), ('pastilhasEmCampo', tuple(lista)), ('ponto',0), ('t',0) )\n",
    "        \n",
    "        super().__init__(initial,goal)\n",
    "        \n",
    "        self.obstacles = obstacles\n",
    "        self.dim = dim\n",
    "    \n",
    "    def actions(self,state):\n",
    "        \n",
    "        state = dict(state)\n",
    "        state = state['posicaoPacman']\n",
    "        \n",
    "        canMove = [ ('N',(state[0],state[1]-1)),('W',(state[0]-1,state[1])), ('E',(state[0]+1,state[1])), \n",
    "                   ('S',(state[0],state[1]+1))] \n",
    "        \n",
    "        return list(filter(lambda x: x[1] not in self.obstacles, canMove))\n",
    "    \n",
    "    def result(self, state, action): \n",
    "\n",
    "        action = action[1]\n",
    "        \n",
    "        estado = dict(state).copy() \n",
    "        \n",
    "        pacmanPassagens = list(estado['pacmanPassagens'])\n",
    "\n",
    "        dic = dict()\n",
    "\n",
    "        estado['t'] += 1\n",
    "                \n",
    "        for key, value in dict(estado['pastilhasEmCampo']).items(): \n",
    "            flag = False\n",
    "            if action in value:\n",
    "                flag = True\n",
    "                valores = list((value)) \n",
    "                valores.remove(action) \n",
    "\n",
    "                if len(valores) != 0: \n",
    "\n",
    "                    dic[key] = tuple(valores)\n",
    "                \n",
    "            elif action == value:\n",
    "                flag = True \n",
    "            \n",
    "            else:\n",
    "                dic[key] = value\n",
    "            \n",
    "            if flag ==  True:\n",
    "                \n",
    "                if key == 'N':\n",
    "                    estado['ponto'] += 1\n",
    "                elif key == 'D':\n",
    "                    estado['ponto'] += max(0,5-estado['t'])\n",
    "                elif key == 'C':\n",
    "                    estado['ponto'] += estado['t'] \n",
    "        \n",
    "        estado['posicaoPacman'] = action\n",
    "        pacmanPassagens +=  [action] \n",
    "        \n",
    "        estado['pastilhasEmCampo'] = tuple(dic.items())\n",
    "        \n",
    "        estado['pacmanPassagens'] = tuple(pacmanPassagens)\n",
    "\n",
    "        return tuple(estado.items())\n",
    "    \n",
    "    def goal_test(self, state):\n",
    "        \n",
    "        state = dict(state)\n",
    "            \n",
    "        return state['ponto'] >= self.goal \n",
    "    \n",
    "    def path_cost(self, c, state1, action, state2):\n",
    "        \n",
    "        state1 = dict(state1)\n",
    "        \n",
    "        state2 = dict(state2)\n",
    "        \n",
    "        if action[1] not in state1['pacmanPassagens']:\n",
    "             return c+1 \n",
    "        else:\n",
    "            return c + state2['pacmanPassagens'].count(action[1])\n",
    "\n",
    "    def display(self,state): \n",
    "        \n",
    "        state = dict(state)\n",
    "        \n",
    "        pastilhasEmCampo = dict(state['pastilhasEmCampo'])\n",
    "        \n",
    "        for y in range(self.dim):\n",
    "\n",
    "            for x in range(self.dim):\n",
    "                \n",
    "                dicPastilhas = dict()\n",
    "\n",
    "                if( (x,y) in self.obstacles):\n",
    "                    print(\"=\", end=' ')\n",
    "\n",
    "                elif( (x,y) == state['posicaoPacman']):\n",
    "                    print(\"@\", end=' ')\n",
    "\n",
    "                elif( \"N\" in pastilhasEmCampo and ((x,y) in pastilhasEmCampo['N'] or (x,y) == pastilhasEmCampo['N'])):\n",
    "                    print(\"N\", end=' ')\n",
    "\n",
    "                elif( \"D\" in pastilhasEmCampo and ((x,y) in pastilhasEmCampo['D'] or (x,y) == pastilhasEmCampo['D'])):\n",
    "                    print(\"D\", end=' ')\n",
    "\n",
    "                elif( \"C\" in pastilhasEmCampo and ((x,y) in pastilhasEmCampo['C'] or (x,y) == pastilhasEmCampo['C'])):\n",
    "                    print(\"C\", end=' ')\n",
    "\n",
    "                elif( (x,y) not in state['pacmanPassagens']):\n",
    "                    print(\".\",end=' ')\n",
    "                \n",
    "                else:\n",
    "                    print(\"+\",end=' ')\n",
    "                \n",
    "            print()\n"
   ]
  },
  {
   "cell_type": "markdown",
   "id": "d2483b06",
   "metadata": {},
   "source": [
    "As funções seguintes permitem ajudar a construir os obstáculos e a fronteira do mundo respetivamente."
   ]
  },
  {
   "cell_type": "code",
   "execution_count": 6,
   "id": "d7c76700",
   "metadata": {},
   "outputs": [],
   "source": [
    "def line(x, y, dx, dy, length):\n",
    "    \"\"\"Uma linha de células de comprimento 'length' começando em (x, y) na direcção (dx, dy).\"\"\"\n",
    "    return {(x + i * dx, y + i * dy) for i in range(length)} \n",
    "    \n",
    "def quadro(x, y, length):\n",
    "    \"\"\"Uma moldura quadrada de células de comprimento 'length' começando no topo esquerdo (x, y).\"\"\"\n",
    "    return line(x,y,0,1,length) | line(x+length-1,y,0,1,length) | line(x,y,1,0,length) | line(x,y+length-1,1,0,length) \n"
   ]
  },
  {
   "cell_type": "markdown",
   "id": "f46b1688",
   "metadata": {},
   "source": [
    "## Criação de estados e do problema\n",
    "Comecemos por criar uma instância da classe do problema e visualizar o estado inicial do problema. <br>\n",
    "O código a seguir deve permitir construir um problema com um mundo 10x10 com o pacman na posição (1,1), com pastilhas N na posição (2,1),(3,7), pastilha D na posição (4,5), pastilha C na posição (8,3) e o objetivo é ter pelo menos 8 pontos."
   ]
  },
  {
   "cell_type": "code",
   "execution_count": 7,
   "id": "e59c0e52",
   "metadata": {},
   "outputs": [
    {
     "name": "stdout",
     "output_type": "stream",
     "text": [
      "O meu estado inicial é: (('posicaoPacman', (1, 1)), ('pacmanPassagens', ((1, 1),)), ('pastilhasEmCampo', (('N', ((2, 1), (3, 7))), ('D', (4, 5)), ('C', (8, 3)))), ('ponto', 0), ('t', 0))\n",
      "\n",
      "O objetivo é atingir pelo menos: 8 pontos\n",
      "\n",
      "= = = = = = = = = = \n",
      "= @ N . . . . . . = \n",
      "= . = = = = = = . = \n",
      "= . = . . . . . C = \n",
      "= . = . . . . . . = \n",
      "= . = . D . . . . = \n",
      "= . = . . . . . . = \n",
      "= . . N . . . . . = \n",
      "= . . . . . . . . = \n",
      "= = = = = = = = = = \n"
     ]
    }
   ],
   "source": [
    "l = line(2,2,1,0,6)\n",
    "c = line(2,3,0,1,4)\n",
    "fronteira = quadro(0,0,10)\n",
    "\n",
    "p = PacmanPastilhas(pacman=(1,1),goal=8,pastilhas={'N':[(2,1),(3,7)],'D':(4,5),'C':(8,3)},obstacles=fronteira | l | c,dim=10)\n",
    "\n",
    "print(\"O meu estado inicial é:\", p.initial)\n",
    "print()\n",
    "print(\"O objetivo é atingir pelo menos:\",p.goal,\"pontos\")\n",
    "print()\n",
    "p.display(p.initial)"
   ]
  },
  {
   "cell_type": "markdown",
   "id": "c31e146a",
   "metadata": {},
   "source": [
    "Vamos verificar quais são as acções que podemos aplicar ao estado inicial"
   ]
  },
  {
   "cell_type": "code",
   "execution_count": 8,
   "id": "ed40fd0d",
   "metadata": {},
   "outputs": [
    {
     "name": "stdout",
     "output_type": "stream",
     "text": [
      "As ações que podemos aplicar: [('E', (2, 1)), ('S', (1, 2))]\n"
     ]
    }
   ],
   "source": [
    "print(\"As ações que podemos aplicar:\",p.actions(p.initial))"
   ]
  },
  {
   "cell_type": "markdown",
   "id": "17580100",
   "metadata": {},
   "source": [
    "<span style='color:red'> **Note:**</span> que cada ação (x,y), é acompanhada pelo seu ponto cardial de modo a ser mais facil controlar os movimentos do nosso Pacman comilão."
   ]
  },
  {
   "cell_type": "markdown",
   "id": "b23880d7",
   "metadata": {},
   "source": [
    "Vamos aplicar uma ação (primeira ação) ao nosso estado e obter um novo estado"
   ]
  },
  {
   "cell_type": "code",
   "execution_count": 9,
   "id": "22d2ac97",
   "metadata": {},
   "outputs": [
    {
     "name": "stdout",
     "output_type": "stream",
     "text": [
      "(('posicaoPacman', (2, 1)), ('pacmanPassagens', ((1, 1), (2, 1))), ('pastilhasEmCampo', (('N', ((3, 7),)), ('D', (4, 5)), ('C', (8, 3)))), ('ponto', 1), ('t', 1))\n"
     ]
    }
   ],
   "source": [
    "e1 = p.result(p.initial,('E', (2, 1)))\n",
    "print(e1)"
   ]
  },
  {
   "cell_type": "markdown",
   "id": "57d47ce1",
   "metadata": {},
   "source": [
    "Repare que o ponto aumentou para 1 e t aumentou para 1, o que indica que o nosso Pacman comeu uma pastilha, consequentemente deixou de ter uma pastilha em campo e também andou uma célula."
   ]
  },
  {
   "cell_type": "markdown",
   "id": "e154d4be",
   "metadata": {},
   "source": [
    "Note também que não houve alteração do estado anterior, simplesmente foi gerado um novo estado"
   ]
  },
  {
   "cell_type": "code",
   "execution_count": 10,
   "id": "e2f62281",
   "metadata": {},
   "outputs": [
    {
     "name": "stdout",
     "output_type": "stream",
     "text": [
      "Estado Inicial: (('posicaoPacman', (1, 1)), ('pacmanPassagens', ((1, 1),)), ('pastilhasEmCampo', (('N', ((2, 1), (3, 7))), ('D', (4, 5)), ('C', (8, 3)))), ('ponto', 0), ('t', 0))\n",
      "\n"
     ]
    }
   ],
   "source": [
    "print(\"Estado Inicial:\",p.initial)\n",
    "print()"
   ]
  },
  {
   "cell_type": "markdown",
   "id": "b7cf131f",
   "metadata": {},
   "source": [
    "Vamos visualizar o nosso novo estado."
   ]
  },
  {
   "cell_type": "code",
   "execution_count": 11,
   "id": "697a9609",
   "metadata": {},
   "outputs": [
    {
     "name": "stdout",
     "output_type": "stream",
     "text": [
      "= = = = = = = = = = \n",
      "= + @ . . . . . . = \n",
      "= . = = = = = = . = \n",
      "= . = . . . . . C = \n",
      "= . = . . . . . . = \n",
      "= . = . D . . . . = \n",
      "= . = . . . . . . = \n",
      "= . . N . . . . . = \n",
      "= . . . . . . . . = \n",
      "= = = = = = = = = = \n"
     ]
    }
   ],
   "source": [
    "p.display(e1)"
   ]
  },
  {
   "cell_type": "markdown",
   "id": "c02a3d42",
   "metadata": {},
   "source": [
    "Repare que a posição do pacman mudou e consequentemente deixou um rasto sobre a ultima posição que passou"
   ]
  },
  {
   "cell_type": "markdown",
   "id": "7293532e",
   "metadata": {},
   "source": [
    "Verifiquemos agora quais as ações aplicáveis a esse novo estado"
   ]
  },
  {
   "cell_type": "code",
   "execution_count": 12,
   "id": "6e50b6c2",
   "metadata": {},
   "outputs": [
    {
     "data": {
      "text/plain": [
       "[('W', (1, 1)), ('E', (3, 1))]"
      ]
     },
     "execution_count": 12,
     "metadata": {},
     "output_type": "execute_result"
    }
   ],
   "source": [
    "p.actions(e1)"
   ]
  },
  {
   "cell_type": "markdown",
   "id": "93d93918",
   "metadata": {},
   "source": [
    "Vamos aplicar uma ação (segunda ação) a esse novo estado e obter um novo estado"
   ]
  },
  {
   "cell_type": "code",
   "execution_count": 13,
   "id": "f9fa1195",
   "metadata": {},
   "outputs": [
    {
     "name": "stdout",
     "output_type": "stream",
     "text": [
      "(('posicaoPacman', (3, 1)), ('pacmanPassagens', ((1, 1), (2, 1), (3, 1))), ('pastilhasEmCampo', (('N', ((3, 7),)), ('D', (4, 5)), ('C', (8, 3)))), ('ponto', 1), ('t', 2))\n"
     ]
    }
   ],
   "source": [
    "e2 = p.result(e1,('E', (3, 1)))\n",
    "print(e2)"
   ]
  },
  {
   "cell_type": "markdown",
   "id": "04f70a5f",
   "metadata": {},
   "source": [
    "Vamos visualizar o nosso novo estado."
   ]
  },
  {
   "cell_type": "code",
   "execution_count": 14,
   "id": "46efda49",
   "metadata": {},
   "outputs": [
    {
     "name": "stdout",
     "output_type": "stream",
     "text": [
      "= = = = = = = = = = \n",
      "= + + @ . . . . . = \n",
      "= . = = = = = = . = \n",
      "= . = . . . . . C = \n",
      "= . = . . . . . . = \n",
      "= . = . D . . . . = \n",
      "= . = . . . . . . = \n",
      "= . . N . . . . . = \n",
      "= . . . . . . . . = \n",
      "= = = = = = = = = = \n"
     ]
    }
   ],
   "source": [
    "p.display(e2)"
   ]
  },
  {
   "cell_type": "markdown",
   "id": "b3db61f8",
   "metadata": {},
   "source": [
    "Qual foi o custo da ação e1 para e2? \n",
    "\n",
    "Vamos testar a função path_cost. "
   ]
  },
  {
   "cell_type": "code",
   "execution_count": 15,
   "id": "c822dd9c",
   "metadata": {},
   "outputs": [
    {
     "name": "stdout",
     "output_type": "stream",
     "text": [
      "Comecemos: (('posicaoPacman', (1, 1)), ('pacmanPassagens', ((1, 1),)), ('pastilhasEmCampo', (('N', ((2, 1), (3, 7))), ('D', (4, 5)), ('C', (8, 3)))), ('ponto', 0), ('t', 0))\n",
      "Com custo = 0\n",
      "\n",
      "Vamos para: (('posicaoPacman', (2, 1)), ('pacmanPassagens', ((1, 1), (2, 1))), ('pastilhasEmCampo', (('N', ((3, 7),)), ('D', (4, 5)), ('C', (8, 3)))), ('ponto', 1), ('t', 1))\n",
      "Com custo = 1\n",
      "\n",
      "Vamos para: (('posicaoPacman', (3, 1)), ('pacmanPassagens', ((1, 1), (2, 1), (3, 1))), ('pastilhasEmCampo', (('N', ((3, 7),)), ('D', (4, 5)), ('C', (8, 3)))), ('ponto', 1), ('t', 2))\n",
      "Com custo = 2\n",
      "\n"
     ]
    }
   ],
   "source": [
    "custo = 0 \n",
    "\n",
    "print(\"Comecemos:\",p.initial)\n",
    "print(\"Com custo =\",custo)\n",
    "print()\n",
    "\n",
    "acao = p.actions(p.initial)\n",
    "custo = p.path_cost(custo,p.initial,acao[0],e1)\n",
    "\n",
    "print(\"Vamos para:\",e1)\n",
    "print(\"Com custo =\",custo)\n",
    "print()\n",
    "\n",
    "acao = p.actions(e1)\n",
    "custo = p.path_cost(custo,e1,acao[1],e2)\n",
    "\n",
    "print(\"Vamos para:\",e2)\n",
    "print(\"Com custo =\",custo)\n",
    "print()"
   ]
  },
  {
   "cell_type": "markdown",
   "id": "569aff66",
   "metadata": {},
   "source": [
    "E se houver um caso em que ande para trás ? "
   ]
  },
  {
   "cell_type": "code",
   "execution_count": 16,
   "id": "7784b770",
   "metadata": {},
   "outputs": [
    {
     "name": "stdout",
     "output_type": "stream",
     "text": [
      "Vamos para: (('posicaoPacman', (2, 1)), ('pacmanPassagens', ((1, 1), (2, 1), (3, 1), (2, 1))), ('pastilhasEmCampo', (('N', ((3, 7),)), ('D', (4, 5)), ('C', (8, 3)))), ('ponto', 1), ('t', 3))\n",
      "Com custo = 4\n",
      "\n"
     ]
    }
   ],
   "source": [
    "acao = p.actions(e2)\n",
    "e3 = p.result(e2,acao[0])\n",
    "custo = p.path_cost(custo,e2,acao[0],e3)\n",
    "\n",
    "print(\"Vamos para:\",e3)\n",
    "print(\"Com custo =\",custo)\n",
    "print()"
   ]
  },
  {
   "cell_type": "markdown",
   "id": "0e209a8f",
   "metadata": {},
   "source": [
    "**Porque o custo é 4 e não 3 ?**<br>\n",
    "Repare que tal como dito na formulação do problema o pacman não gosta de visitar as células muitas vezes e por isso os custos das ações dependem da frequência com que visita as células que delas resultam. \n",
    "Quando visita uma célula pela primeira vez o custo é de 1, mas quando a visita pela n-ésima vez o custo é de n.\n"
   ]
  },
  {
   "cell_type": "markdown",
   "id": "d8516da9",
   "metadata": {},
   "source": [
    "Vamos aplicar uma sequência de ações a partir de nosso estado inicial. <br>\n",
    "Para isso vamos usar a função **exc()**, que permite executar uma sequência de ações a partir de um estado qualquer, devolvendo o estado resultante e o custo acumulado num par `(estadoResultante,custoTotal)`.\n"
   ]
  },
  {
   "cell_type": "code",
   "execution_count": 17,
   "id": "a4e4c335",
   "metadata": {},
   "outputs": [],
   "source": [
    "def exec(p,estado,accoes):\n",
    "    custo = 0\n",
    "    for a in accoes:\n",
    "        seg = p.result(estado,a)\n",
    "        custo = p.path_cost(custo,estado,a,seg)\n",
    "        estado = seg\n",
    "    p.display(estado)\n",
    "    print('Custo:',custo)\n",
    "    print('Goal?',p.goal_test(estado))\n",
    "    return (estado,custo)"
   ]
  },
  {
   "cell_type": "code",
   "execution_count": 18,
   "id": "f573b936",
   "metadata": {},
   "outputs": [
    {
     "name": "stdout",
     "output_type": "stream",
     "text": [
      "= = = = = = = = = = \n",
      "= + + + + + + + + = \n",
      "= . = = = = = = + = \n",
      "= . = . . . . @ + = \n",
      "= . = . . . . . . = \n",
      "= . = . D . . . . = \n",
      "= . = . . . . . . = \n",
      "= . . N . . . . . = \n",
      "= . . . . . . . . = \n",
      "= = = = = = = = = = \n",
      "Custo: 10\n",
      "Goal? True\n",
      "((('posicaoPacman', (7, 3)), ('pacmanPassagens', ((1, 1), (2, 1), (3, 1), (4, 1), (5, 1), (6, 1), (7, 1), (8, 1), (8, 2), (8, 3), (7, 3))), ('pastilhasEmCampo', (('N', ((3, 7),)), ('D', (4, 5)))), ('ponto', 10), ('t', 10)), 10)\n"
     ]
    }
   ],
   "source": [
    "exect = exec(p,p.initial,[ ('E',(2,1)) , ('E',(3,1)) , ('E',(4,1)) , ('E',(5,1)) , ('E',(6,1)) , ('E',(7,1)) , ('E',(8,1)) , ('S',(8,2)) ,\n",
    "            ('S',(8,3)), ('W',(7,3))])\n",
    "print(exect)"
   ]
  },
  {
   "cell_type": "markdown",
   "id": "fdebc294",
   "metadata": {},
   "source": [
    "Embora tenhamos visto um goal teste com a função exec, vamos experimentar fazer um goal teste em caso de False e True"
   ]
  },
  {
   "cell_type": "code",
   "execution_count": 19,
   "id": "7a136611",
   "metadata": {},
   "outputs": [
    {
     "name": "stdout",
     "output_type": "stream",
     "text": [
      "Atingimos o objetivo em e3: False\n"
     ]
    }
   ],
   "source": [
    "print(\"Atingimos o objetivo em e3:\",p.goal_test(e3))"
   ]
  },
  {
   "cell_type": "code",
   "execution_count": 20,
   "id": "deb88232",
   "metadata": {},
   "outputs": [
    {
     "name": "stdout",
     "output_type": "stream",
     "text": [
      "Atingimos o objetivo em exec: True\n"
     ]
    }
   ],
   "source": [
    "print(\"Atingimos o objetivo em exec:\",p.goal_test(exect[0]))"
   ]
  },
  {
   "cell_type": "markdown",
   "id": "1880e8f6",
   "metadata": {},
   "source": [
    "Verifiquemos agora a comparação entre estado. <br>\n",
    "Como vimos anteriormente o estado e1 surgiu a partir de p.initial e e2 surgiu a partir de e1, portanto é previsivel que e1 > p.initial, e2 > e1."
   ]
  },
  {
   "cell_type": "code",
   "execution_count": 21,
   "id": "f658ff49",
   "metadata": {},
   "outputs": [
    {
     "name": "stdout",
     "output_type": "stream",
     "text": [
      "e1 é maior que e0: True\n",
      "e2 é maior que e1: True\n"
     ]
    }
   ],
   "source": [
    "e0 = p.initial\n",
    "print(\"e1 é maior que e0:\", e1 > e0)\n",
    "print(\"e2 é maior que e1:\",e2 > e1)"
   ]
  },
  {
   "cell_type": "markdown",
   "id": "62dd4d61",
   "metadata": {},
   "source": [
    "<span style='color:red'> **Note**:</span> Apesar de se criar um estado a partir de outro, não quer dizer que o estado criado tenha de ser obrigatoriamente maior que o estado anterior, por exemplo e2 > e3.\n",
    "\n",
    "Isto acontece porque se tivermos em casos como um resultado de novo estado em que houve retrocesso, ou seja, voltar para uma célula anterior estamos perante um destes casos, como no caso e3 gerado a apartir de e2."
   ]
  },
  {
   "cell_type": "code",
   "execution_count": 25,
   "id": "354c0913",
   "metadata": {},
   "outputs": [
    {
     "name": "stdout",
     "output_type": "stream",
     "text": [
      "e2 é maior que e3: True\n"
     ]
    }
   ],
   "source": [
    "print(\"e2 é maior que e3:\",e2 > e3)"
   ]
  },
  {
   "cell_type": "markdown",
   "id": "14a095c8",
   "metadata": {},
   "source": [
    "# Teste de procura de solução\n",
    "Mais abaixo vai haver testes de procura sobre o nosso problema definido anteriormente. <br>\n",
    "Assim poderemos comparar o tempo de execução dos algoritmos e ver qual dos algoritmos é o mais rápido. <br>\n",
    "Também iremos responder as perguntas como por exemplo **\"Porque é que a nossa procura entra em ciclo?\"**.\n",
    "\n",
    "<span style='color:red'>Note:</span> Se a não houver pastilhas em campo inicialmente ou o tipo de problema não tenha solução, qualquer algoritmo entra em loop infinito."
   ]
  },
  {
   "cell_type": "markdown",
   "id": "346d0cc9",
   "metadata": {},
   "source": [
    "### Profundidade-Primeiro (árvore)\n",
    "O algoritmo de profundidade primeiro, **dá preferência aos nós da fronteira que estejam mais afastados da raíz (maior número de acções).** <br>\n",
    "Se executarmos a procura em profundidade primeiro, podemos **entrar em ciclo, porque este método de procura não faz controlo de ciclos.** <br>\n",
    "A procura em profundidade quando devolve uma solução não garante que ela seja a de menor custo, não sendo optimal. **Só garante a solução óptima se todas as soluções estiverem à mesma profundidade e os custos são homogéneos.**\n",
    "\n",
    "Vamos aplicar a procura em Profundidade-Primeiro (árvore) sobre o nosso problema anterior."
   ]
  },
  {
   "cell_type": "code",
   "execution_count": 26,
   "id": "875e2378",
   "metadata": {},
   "outputs": [
    {
     "ename": "KeyboardInterrupt",
     "evalue": "",
     "output_type": "error",
     "traceback": [
      "\u001b[1;31m---------------------------------------------------------------------------\u001b[0m",
      "\u001b[1;31mKeyboardInterrupt\u001b[0m                         Traceback (most recent call last)",
      "\u001b[1;32m~\\AppData\\Local\\Temp/ipykernel_8924/330208132.py\u001b[0m in \u001b[0;36m<module>\u001b[1;34m\u001b[0m\n\u001b[1;32m----> 1\u001b[1;33m \u001b[0mdfts\u001b[0m \u001b[1;33m=\u001b[0m \u001b[0mdepth_first_tree_search\u001b[0m\u001b[1;33m(\u001b[0m\u001b[0mp\u001b[0m\u001b[1;33m)\u001b[0m\u001b[1;33m\u001b[0m\u001b[1;33m\u001b[0m\u001b[0m\n\u001b[0m\u001b[0;32m      2\u001b[0m \u001b[0mp\u001b[0m\u001b[1;33m.\u001b[0m\u001b[0mdisplay\u001b[0m\u001b[1;33m(\u001b[0m\u001b[0mdfts\u001b[0m\u001b[1;33m.\u001b[0m\u001b[0mstate\u001b[0m\u001b[1;33m)\u001b[0m\u001b[1;33m\u001b[0m\u001b[1;33m\u001b[0m\u001b[0m\n",
      "\u001b[1;32m~\\OneDrive - Universidade de Lisboa\\2ºAno\\2_Sem\\Sistemas_Inteligentes\\Projeto\\P1\\searchPlus.py\u001b[0m in \u001b[0;36mdepth_first_tree_search\u001b[1;34m(problem)\u001b[0m\n\u001b[0;32m    217\u001b[0m \u001b[1;32mdef\u001b[0m \u001b[0mdepth_first_tree_search\u001b[0m\u001b[1;33m(\u001b[0m\u001b[0mproblem\u001b[0m\u001b[1;33m)\u001b[0m\u001b[1;33m:\u001b[0m\u001b[1;33m\u001b[0m\u001b[1;33m\u001b[0m\u001b[0m\n\u001b[0;32m    218\u001b[0m     \u001b[1;34m\"\"\"Search the deepest nodes in the search tree first.\"\"\"\u001b[0m\u001b[1;33m\u001b[0m\u001b[1;33m\u001b[0m\u001b[0m\n\u001b[1;32m--> 219\u001b[1;33m     \u001b[1;32mreturn\u001b[0m \u001b[0mtree_search\u001b[0m\u001b[1;33m(\u001b[0m\u001b[0mproblem\u001b[0m\u001b[1;33m,\u001b[0m \u001b[0mStack\u001b[0m\u001b[1;33m(\u001b[0m\u001b[1;33m)\u001b[0m\u001b[1;33m)\u001b[0m\u001b[1;33m\u001b[0m\u001b[1;33m\u001b[0m\u001b[0m\n\u001b[0m\u001b[0;32m    220\u001b[0m \u001b[1;33m\u001b[0m\u001b[0m\n\u001b[0;32m    221\u001b[0m \u001b[1;33m\u001b[0m\u001b[0m\n",
      "\u001b[1;32m~\\OneDrive - Universidade de Lisboa\\2ºAno\\2_Sem\\Sistemas_Inteligentes\\Projeto\\P1\\searchPlus.py\u001b[0m in \u001b[0;36mtree_search\u001b[1;34m(problem, frontier)\u001b[0m\n\u001b[0;32m    189\u001b[0m         \u001b[1;32mif\u001b[0m \u001b[0mproblem\u001b[0m\u001b[1;33m.\u001b[0m\u001b[0mgoal_test\u001b[0m\u001b[1;33m(\u001b[0m\u001b[0mnode\u001b[0m\u001b[1;33m.\u001b[0m\u001b[0mstate\u001b[0m\u001b[1;33m)\u001b[0m\u001b[1;33m:\u001b[0m\u001b[1;33m\u001b[0m\u001b[1;33m\u001b[0m\u001b[0m\n\u001b[0;32m    190\u001b[0m             \u001b[1;32mreturn\u001b[0m \u001b[0mnode\u001b[0m\u001b[1;33m\u001b[0m\u001b[1;33m\u001b[0m\u001b[0m\n\u001b[1;32m--> 191\u001b[1;33m         \u001b[0mfrontier\u001b[0m\u001b[1;33m.\u001b[0m\u001b[0mextend\u001b[0m\u001b[1;33m(\u001b[0m\u001b[0mnode\u001b[0m\u001b[1;33m.\u001b[0m\u001b[0mexpand\u001b[0m\u001b[1;33m(\u001b[0m\u001b[0mproblem\u001b[0m\u001b[1;33m)\u001b[0m\u001b[1;33m)\u001b[0m\u001b[1;33m\u001b[0m\u001b[1;33m\u001b[0m\u001b[0m\n\u001b[0m\u001b[0;32m    192\u001b[0m     \u001b[1;32mreturn\u001b[0m \u001b[1;32mNone\u001b[0m\u001b[1;33m\u001b[0m\u001b[1;33m\u001b[0m\u001b[0m\n\u001b[0;32m    193\u001b[0m \u001b[1;33m\u001b[0m\u001b[0m\n",
      "\u001b[1;31mKeyboardInterrupt\u001b[0m: "
     ]
    }
   ],
   "source": [
    "dfts = depth_first_tree_search(p) \n",
    "p.display(dfts.state)"
   ]
  },
  {
   "cell_type": "markdown",
   "id": "9173ad4f",
   "metadata": {},
   "source": [
    "### Porque a profundidade primeiro entra em ciclo?\n",
    "Para vermos porque é que a procura em profundidade entrou em ciclo, vamos renomear a funcao tree_search() e depth_first_tree_search() para **tree_search_teste()** e **depth_first_tree_search_teste()** respetivamente e de seguida inspecionar o seu funcionamento. <br>\n",
    "Iremos fazer 20 simulações e ver em que nós a nossa procura passa."
   ]
  },
  {
   "cell_type": "code",
   "execution_count": 27,
   "id": "d60a39a5",
   "metadata": {},
   "outputs": [
    {
     "name": "stdout",
     "output_type": "stream",
     "text": [
      "<Node (('posicaoPacman', (1, 1)), ('pacmanPassagens', ((1, 1),)), ('pastilhasEmCampo', (('N', ((2, 1), (3, 7))), ('D', (4, 5)), ('C', (8, 3)))), ('ponto', 0), ('t', 0))>\n",
      "\n",
      "<Node (('posicaoPacman', (1, 2)), ('pacmanPassagens', ((1, 1), (1, 2))), ('pastilhasEmCampo', (('N', ((2, 1), (3, 7))), ('D', (4, 5)), ('C', (8, 3)))), ('ponto', 0), ('t', 1))>\n",
      "\n",
      "<Node (('posicaoPacman', (1, 3)), ('pacmanPassagens', ((1, 1), (1, 2), (1, 3))), ('pastilhasEmCampo', (('N', ((2, 1), (3, 7))), ('D', (4, 5)), ('C', (8, 3)))), ('ponto', 0), ('t', 2))>\n",
      "\n",
      "<Node (('posicaoPacman', (1, 4)), ('pacmanPassagens', ((1, 1), (1, 2), (1, 3), (1, 4))), ('pastilhasEmCampo', (('N', ((2, 1), (3, 7))), ('D', (4, 5)), ('C', (8, 3)))), ('ponto', 0), ('t', 3))>\n",
      "\n",
      "<Node (('posicaoPacman', (1, 5)), ('pacmanPassagens', ((1, 1), (1, 2), (1, 3), (1, 4), (1, 5))), ('pastilhasEmCampo', (('N', ((2, 1), (3, 7))), ('D', (4, 5)), ('C', (8, 3)))), ('ponto', 0), ('t', 4))>\n",
      "\n",
      "<Node (('posicaoPacman', (1, 6)), ('pacmanPassagens', ((1, 1), (1, 2), (1, 3), (1, 4), (1, 5), (1, 6))), ('pastilhasEmCampo', (('N', ((2, 1), (3, 7))), ('D', (4, 5)), ('C', (8, 3)))), ('ponto', 0), ('t', 5))>\n",
      "\n",
      "<Node (('posicaoPacman', (1, 7)), ('pacmanPassagens', ((1, 1), (1, 2), (1, 3), (1, 4), (1, 5), (1, 6), (1, 7))), ('pastilhasEmCampo', (('N', ((2, 1), (3, 7))), ('D', (4, 5)), ('C', (8, 3)))), ('ponto', 0), ('t', 6))>\n",
      "\n",
      "<Node (('posicaoPacman', (1, 8)), ('pacmanPassagens', ((1, 1), (1, 2), (1, 3), (1, 4), (1, 5), (1, 6), (1, 7), (1, 8))), ('pastilhasEmCampo', (('N', ((2, 1), (3, 7))), ('D', (4, 5)), ('C', (8, 3)))), ('ponto', 0), ('t', 7))>\n",
      "\n",
      "<Node (('posicaoPacman', (2, 8)), ('pacmanPassagens', ((1, 1), (1, 2), (1, 3), (1, 4), (1, 5), (1, 6), (1, 7), (1, 8), (2, 8))), ('pastilhasEmCampo', (('N', ((2, 1), (3, 7))), ('D', (4, 5)), ('C', (8, 3)))), ('ponto', 0), ('t', 8))>\n",
      "\n",
      "<Node (('posicaoPacman', (3, 8)), ('pacmanPassagens', ((1, 1), (1, 2), (1, 3), (1, 4), (1, 5), (1, 6), (1, 7), (1, 8), (2, 8), (3, 8))), ('pastilhasEmCampo', (('N', ((2, 1), (3, 7))), ('D', (4, 5)), ('C', (8, 3)))), ('ponto', 0), ('t', 9))>\n",
      "\n",
      "<Node (('posicaoPacman', (4, 8)), ('pacmanPassagens', ((1, 1), (1, 2), (1, 3), (1, 4), (1, 5), (1, 6), (1, 7), (1, 8), (2, 8), (3, 8), (4, 8))), ('pastilhasEmCampo', (('N', ((2, 1), (3, 7))), ('D', (4, 5)), ('C', (8, 3)))), ('ponto', 0), ('t', 10))>\n",
      "\n",
      "<Node (('posicaoPacman', (5, 8)), ('pacmanPassagens', ((1, 1), (1, 2), (1, 3), (1, 4), (1, 5), (1, 6), (1, 7), (1, 8), (2, 8), (3, 8), (4, 8), (5, 8))), ('pastilhasEmCampo', (('N', ((2, 1), (3, 7))), ('D', (4, 5)), ('C', (8, 3)))), ('ponto', 0), ('t', 11))>\n",
      "\n",
      "<Node (('posicaoPacman', (6, 8)), ('pacmanPassagens', ((1, 1), (1, 2), (1, 3), (1, 4), (1, 5), (1, 6), (1, 7), (1, 8), (2, 8), (3, 8), (4, 8), (5, 8), (6, 8))), ('pastilhasEmCampo', (('N', ((2, 1), (3, 7))), ('D', (4, 5)), ('C', (8, 3)))), ('ponto', 0), ('t', 12))>\n",
      "\n",
      "<Node (('posicaoPacman', (7, 8)), ('pacmanPassagens', ((1, 1), (1, 2), (1, 3), (1, 4), (1, 5), (1, 6), (1, 7), (1, 8), (2, 8), (3, 8), (4, 8), (5, 8), (6, 8), (7, 8))), ('pastilhasEmCampo', (('N', ((2, 1), (3, 7))), ('D', (4, 5)), ('C', (8, 3)))), ('ponto', 0), ('t', 13))>\n",
      "\n",
      "<Node (('posicaoPacman', (8, 8)), ('pacmanPassagens', ((1, 1), (1, 2), (1, 3), (1, 4), (1, 5), (1, 6), (1, 7), (1, 8), (2, 8), (3, 8), (4, 8), (5, 8), (6, 8), (7, 8), (8, 8))), ('pastilhasEmCampo', (('N', ((2, 1), (3, 7))), ('D', (4, 5)), ('C', (8, 3)))), ('ponto', 0), ('t', 14))>\n",
      "\n",
      "<Node (('posicaoPacman', (7, 8)), ('pacmanPassagens', ((1, 1), (1, 2), (1, 3), (1, 4), (1, 5), (1, 6), (1, 7), (1, 8), (2, 8), (3, 8), (4, 8), (5, 8), (6, 8), (7, 8), (8, 8), (7, 8))), ('pastilhasEmCampo', (('N', ((2, 1), (3, 7))), ('D', (4, 5)), ('C', (8, 3)))), ('ponto', 0), ('t', 15))>\n",
      "\n",
      "<Node (('posicaoPacman', (8, 8)), ('pacmanPassagens', ((1, 1), (1, 2), (1, 3), (1, 4), (1, 5), (1, 6), (1, 7), (1, 8), (2, 8), (3, 8), (4, 8), (5, 8), (6, 8), (7, 8), (8, 8), (7, 8), (8, 8))), ('pastilhasEmCampo', (('N', ((2, 1), (3, 7))), ('D', (4, 5)), ('C', (8, 3)))), ('ponto', 0), ('t', 16))>\n",
      "\n",
      "<Node (('posicaoPacman', (7, 8)), ('pacmanPassagens', ((1, 1), (1, 2), (1, 3), (1, 4), (1, 5), (1, 6), (1, 7), (1, 8), (2, 8), (3, 8), (4, 8), (5, 8), (6, 8), (7, 8), (8, 8), (7, 8), (8, 8), (7, 8))), ('pastilhasEmCampo', (('N', ((2, 1), (3, 7))), ('D', (4, 5)), ('C', (8, 3)))), ('ponto', 0), ('t', 17))>\n",
      "\n",
      "<Node (('posicaoPacman', (8, 8)), ('pacmanPassagens', ((1, 1), (1, 2), (1, 3), (1, 4), (1, 5), (1, 6), (1, 7), (1, 8), (2, 8), (3, 8), (4, 8), (5, 8), (6, 8), (7, 8), (8, 8), (7, 8), (8, 8), (7, 8), (8, 8))), ('pastilhasEmCampo', (('N', ((2, 1), (3, 7))), ('D', (4, 5)), ('C', (8, 3)))), ('ponto', 0), ('t', 18))>\n",
      "\n"
     ]
    }
   ],
   "source": [
    "def tree_search_teste(problem, frontier):\n",
    "    \"\"\"Search through the successors of a problem to find a goal.\n",
    "    The argument frontier should be an empty queue.\n",
    "    Don't worry about repeated paths to a state. [Figure 3.7]\"\"\"\n",
    "    frontier.append(Node(problem.initial))\n",
    "    count = 1\n",
    "    while frontier:\n",
    "        if count == 20:\n",
    "            break\n",
    "        node = frontier.pop()\n",
    "        print(node)\n",
    "        print()\n",
    "        if problem.goal_test(node.state):\n",
    "            return node\n",
    "        frontier.extend(node.expand(problem))\n",
    "        count +=1\n",
    "    return None\n",
    "\n",
    "def depth_first_tree_search_teste(problem):\n",
    "    \"\"\"Search the deepest nodes in the search tree first.\"\"\"\n",
    "    return tree_search_teste(problem, Stack())\n",
    "\n",
    "dfts = depth_first_tree_search_teste(p) "
   ]
  },
  {
   "cell_type": "markdown",
   "id": "dc29b0c0",
   "metadata": {},
   "source": [
    "Como podemos ver, assim que chegamos a posicao (8,8) a nossa procura fica num loop infinito, variado entre os estados de posição (8,8) e de posição (7,8), não saindo daí. <br>\n",
    "Ao empilharmos os sucessores, as ordens invertem-se dando origem ao ciclo."
   ]
  },
  {
   "cell_type": "markdown",
   "id": "95f4c7b2",
   "metadata": {},
   "source": [
    "### Largura-Primeiro (árvore)\n",
    "Vamos executar uma procura em largura primeiro que **dá preferência aos nós da fronteira que estão mais à superfície (menor número de acções)** e que nos dará uma solução óptima em termos do número de acções, e não em termos do custo. **Só garante a optimalidade quando os custos são homogéneos**, o que não é o caso. <br>\n",
    "**A procura em largura, numa árvore, não entra em ciclo** porque primeiro explora todos os estados à distância de uma acção do estado inicial, depois todos os estados à distância de duas acções do estado inicial, etc., ultrapassando assim um ciclo infinito desde que haja uma solução.\n",
    "\n",
    "Vamos aplicar a procura em Largura-Primeiro (árvore) sobre o nosso problema anterior e posteriormente aplicar o display de modo a visualizarmos o estado inicial e a solução."
   ]
  },
  {
   "cell_type": "code",
   "execution_count": 28,
   "id": "84156104",
   "metadata": {},
   "outputs": [
    {
     "name": "stdout",
     "output_type": "stream",
     "text": [
      "= = = = = = = = = = \n",
      "= @ N . . . . . . = \n",
      "= . = = = = = = . = \n",
      "= . = . . . . . C = \n",
      "= . = . . . . . . = \n",
      "= . = . D . . . . = \n",
      "= . = . . . . . . = \n",
      "= . . N . . . . . = \n",
      "= . . . . . . . . = \n",
      "= = = = = = = = = = \n",
      "\n",
      "O nó resultante da procura em largura primeiro é: <Node (('posicaoPacman', (8, 3)), ('pacmanPassagens', ((1, 1), (2, 1), (3, 1), (4, 1), (5, 1), (6, 1), (7, 1), (8, 1), (8, 2), (8, 3))), ('pastilhasEmCampo', (('N', ((3, 7),)), ('D', (4, 5)))), ('ponto', 10), ('t', 9))>\n",
      "\n",
      "As ações aplicadas ao estado foram: [('E', (2, 1)), ('E', (3, 1)), ('E', (4, 1)), ('E', (5, 1)), ('E', (6, 1)), ('E', (7, 1)), ('E', (8, 1)), ('S', (8, 2)), ('S', (8, 3))]\n",
      "\n",
      "= = = = = = = = = = \n",
      "= + + + + + + + + = \n",
      "= . = = = = = = + = \n",
      "= . = . . . . . @ = \n",
      "= . = . . . . . . = \n",
      "= . = . D . . . . = \n",
      "= . = . . . . . . = \n",
      "= . . N . . . . . = \n",
      "= . . . . . . . . = \n",
      "= = = = = = = = = = \n"
     ]
    }
   ],
   "source": [
    "bfts = breadth_first_tree_search(p) \n",
    "p.display(p.initial)\n",
    "print()\n",
    "print(\"O nó resultante da procura em largura primeiro é:\",bfts)\n",
    "print()\n",
    "print(\"As ações aplicadas ao estado foram:\",bfts.solution())\n",
    "print()\n",
    "p.display(bfts.state)"
   ]
  },
  {
   "cell_type": "markdown",
   "id": "622aed65",
   "metadata": {},
   "source": [
    "### Profundidade-Primeiro (grafo)\n",
    "Na procura em profundidade primeiro em grafo, é preciso guardar os estados expandidos num conjunto e também filtrar os estados sucessores, evitando os já expandidos ou aqueles que são terminais dos caminhos na fronteira, ou seja, os não expandidos mas na fronteira). <br>\n",
    "Tal como acontecia na profundidade primeiro em arvore, e executarmos a procura em profundidade primeiro em grafo, **entraremos em ciclo.**\n",
    "\n",
    "Vamos aplicar a procura em Profundidade-Primeiro (grafo) sobre o nosso problema anterior."
   ]
  },
  {
   "cell_type": "code",
   "execution_count": 29,
   "id": "9b167bd1",
   "metadata": {},
   "outputs": [
    {
     "ename": "KeyboardInterrupt",
     "evalue": "",
     "output_type": "error",
     "traceback": [
      "\u001b[1;31m---------------------------------------------------------------------------\u001b[0m",
      "\u001b[1;31mKeyboardInterrupt\u001b[0m                         Traceback (most recent call last)",
      "\u001b[1;32m~\\AppData\\Local\\Temp/ipykernel_8924/1459744273.py\u001b[0m in \u001b[0;36m<module>\u001b[1;34m\u001b[0m\n\u001b[1;32m----> 1\u001b[1;33m \u001b[0mdfgs\u001b[0m \u001b[1;33m=\u001b[0m \u001b[0mdepth_first_graph_search\u001b[0m\u001b[1;33m(\u001b[0m\u001b[0mp\u001b[0m\u001b[1;33m)\u001b[0m\u001b[1;33m\u001b[0m\u001b[1;33m\u001b[0m\u001b[0m\n\u001b[0m\u001b[0;32m      2\u001b[0m \u001b[0mp\u001b[0m\u001b[1;33m.\u001b[0m\u001b[0mdisplay\u001b[0m\u001b[1;33m(\u001b[0m\u001b[0mdfgs\u001b[0m\u001b[1;33m.\u001b[0m\u001b[0mstate\u001b[0m\u001b[1;33m)\u001b[0m\u001b[1;33m\u001b[0m\u001b[1;33m\u001b[0m\u001b[0m\n",
      "\u001b[1;32m~\\OneDrive - Universidade de Lisboa\\2ºAno\\2_Sem\\Sistemas_Inteligentes\\Projeto\\P1\\searchPlus.py\u001b[0m in \u001b[0;36mdepth_first_graph_search\u001b[1;34m(problem)\u001b[0m\n\u001b[0;32m    222\u001b[0m \u001b[1;32mdef\u001b[0m \u001b[0mdepth_first_graph_search\u001b[0m\u001b[1;33m(\u001b[0m\u001b[0mproblem\u001b[0m\u001b[1;33m)\u001b[0m\u001b[1;33m:\u001b[0m\u001b[1;33m\u001b[0m\u001b[1;33m\u001b[0m\u001b[0m\n\u001b[0;32m    223\u001b[0m     \u001b[1;34m\"\"\"Search the deepest nodes in the search tree first.\"\"\"\u001b[0m\u001b[1;33m\u001b[0m\u001b[1;33m\u001b[0m\u001b[0m\n\u001b[1;32m--> 224\u001b[1;33m     \u001b[1;32mreturn\u001b[0m \u001b[0mgraph_search\u001b[0m\u001b[1;33m(\u001b[0m\u001b[0mproblem\u001b[0m\u001b[1;33m,\u001b[0m \u001b[0mStack\u001b[0m\u001b[1;33m(\u001b[0m\u001b[1;33m)\u001b[0m\u001b[1;33m)\u001b[0m\u001b[1;33m\u001b[0m\u001b[1;33m\u001b[0m\u001b[0m\n\u001b[0m\u001b[0;32m    225\u001b[0m \u001b[1;33m\u001b[0m\u001b[0m\n\u001b[0;32m    226\u001b[0m \u001b[1;33m\u001b[0m\u001b[0m\n",
      "\u001b[1;32m~\\OneDrive - Universidade de Lisboa\\2ºAno\\2_Sem\\Sistemas_Inteligentes\\Projeto\\P1\\searchPlus.py\u001b[0m in \u001b[0;36mgraph_search\u001b[1;34m(problem, frontier)\u001b[0m\n\u001b[0;32m    204\u001b[0m             \u001b[1;32mreturn\u001b[0m \u001b[0mnode\u001b[0m\u001b[1;33m\u001b[0m\u001b[1;33m\u001b[0m\u001b[0m\n\u001b[0;32m    205\u001b[0m         \u001b[0mexplored\u001b[0m\u001b[1;33m.\u001b[0m\u001b[0madd\u001b[0m\u001b[1;33m(\u001b[0m\u001b[0mnode\u001b[0m\u001b[1;33m.\u001b[0m\u001b[0mstate\u001b[0m\u001b[1;33m)\u001b[0m\u001b[1;33m\u001b[0m\u001b[1;33m\u001b[0m\u001b[0m\n\u001b[1;32m--> 206\u001b[1;33m         frontier.extend(child for child in node.expand(problem)\n\u001b[0m\u001b[0;32m    207\u001b[0m                         \u001b[1;32mif\u001b[0m \u001b[0mchild\u001b[0m\u001b[1;33m.\u001b[0m\u001b[0mstate\u001b[0m \u001b[1;32mnot\u001b[0m \u001b[1;32min\u001b[0m \u001b[0mexplored\u001b[0m \u001b[1;32mand\u001b[0m\u001b[1;33m\u001b[0m\u001b[1;33m\u001b[0m\u001b[0m\n\u001b[0;32m    208\u001b[0m                         child not in frontier)\n",
      "\u001b[1;32m~\\OneDrive - Universidade de Lisboa\\2ºAno\\2_Sem\\Sistemas_Inteligentes\\Projeto\\P1\\searchPlus.py\u001b[0m in \u001b[0;36m<genexpr>\u001b[1;34m(.0)\u001b[0m\n\u001b[0;32m    206\u001b[0m         frontier.extend(child for child in node.expand(problem)\n\u001b[0;32m    207\u001b[0m                         \u001b[1;32mif\u001b[0m \u001b[0mchild\u001b[0m\u001b[1;33m.\u001b[0m\u001b[0mstate\u001b[0m \u001b[1;32mnot\u001b[0m \u001b[1;32min\u001b[0m \u001b[0mexplored\u001b[0m \u001b[1;32mand\u001b[0m\u001b[1;33m\u001b[0m\u001b[1;33m\u001b[0m\u001b[0m\n\u001b[1;32m--> 208\u001b[1;33m                         child not in frontier)\n\u001b[0m\u001b[0;32m    209\u001b[0m     \u001b[1;32mreturn\u001b[0m \u001b[1;32mNone\u001b[0m\u001b[1;33m\u001b[0m\u001b[1;33m\u001b[0m\u001b[0m\n\u001b[0;32m    210\u001b[0m \u001b[1;33m\u001b[0m\u001b[0m\n",
      "\u001b[1;32m~\\OneDrive - Universidade de Lisboa\\2ºAno\\2_Sem\\Sistemas_Inteligentes\\Projeto\\P1\\searchPlus.py\u001b[0m in \u001b[0;36m__eq__\u001b[1;34m(self, other)\u001b[0m\n\u001b[0;32m    132\u001b[0m     \u001b[1;31m# want in other contexts.]\u001b[0m\u001b[1;33m\u001b[0m\u001b[1;33m\u001b[0m\u001b[0m\n\u001b[0;32m    133\u001b[0m \u001b[1;33m\u001b[0m\u001b[0m\n\u001b[1;32m--> 134\u001b[1;33m     \u001b[1;32mdef\u001b[0m \u001b[0m__eq__\u001b[0m\u001b[1;33m(\u001b[0m\u001b[0mself\u001b[0m\u001b[1;33m,\u001b[0m \u001b[0mother\u001b[0m\u001b[1;33m)\u001b[0m\u001b[1;33m:\u001b[0m\u001b[1;33m\u001b[0m\u001b[1;33m\u001b[0m\u001b[0m\n\u001b[0m\u001b[0;32m    135\u001b[0m         \u001b[1;32mreturn\u001b[0m \u001b[0misinstance\u001b[0m\u001b[1;33m(\u001b[0m\u001b[0mother\u001b[0m\u001b[1;33m,\u001b[0m \u001b[0mNode\u001b[0m\u001b[1;33m)\u001b[0m \u001b[1;32mand\u001b[0m \u001b[0mself\u001b[0m\u001b[1;33m.\u001b[0m\u001b[0mstate\u001b[0m \u001b[1;33m==\u001b[0m \u001b[0mother\u001b[0m\u001b[1;33m.\u001b[0m\u001b[0mstate\u001b[0m\u001b[1;33m\u001b[0m\u001b[1;33m\u001b[0m\u001b[0m\n\u001b[0;32m    136\u001b[0m \u001b[1;33m\u001b[0m\u001b[0m\n",
      "\u001b[1;31mKeyboardInterrupt\u001b[0m: "
     ]
    }
   ],
   "source": [
    "dfgs = depth_first_graph_search(p) \n",
    "p.display(dfgs.state)"
   ]
  },
  {
   "cell_type": "markdown",
   "id": "8e72d9af",
   "metadata": {},
   "source": [
    "### Porque a profundidade primeiro em grafo entra em ciclo?\n",
    "Para vermos porque é que a procura em profundidade primeiro em grafo entrou em ciclo, vamos renomear a funcao graph_search() e depth_first_graph_search() para **graph_search_teste()** e **depth_first_graph_search_teste()** respetivamente e de seguida inspecionar o seu funcionamento. <br>\n",
    "Fazer 5 simulações e ver a nossa fronteira."
   ]
  },
  {
   "cell_type": "code",
   "execution_count": 33,
   "id": "5d943afa",
   "metadata": {},
   "outputs": [
    {
     "name": "stdout",
     "output_type": "stream",
     "text": [
      "\n",
      "<Node (('posicaoPacman', (1, 1)), ('pacmanPassagens', ((1, 1),)), ('pastilhasEmCampo', (('N', ((2, 1), (3, 7))), ('D', (4, 5)), ('C', (8, 3)))), ('ponto', 0), ('t', 0))> Este é Nó\n",
      "\n",
      "{(('posicaoPacman', (1, 1)), ('pacmanPassagens', ((1, 1),)), ('pastilhasEmCampo', (('N', ((2, 1), (3, 7))), ('D', (4, 5)), ('C', (8, 3)))), ('ponto', 0), ('t', 0))} Este é explorado\n",
      "[<Node (('posicaoPacman', (2, 1)), ('pacmanPassagens', ((1, 1), (2, 1))), ('pastilhasEmCampo', (('N', ((3, 7),)), ('D', (4, 5)), ('C', (8, 3)))), ('ponto', 1), ('t', 1))>, <Node (('posicaoPacman', (1, 2)), ('pacmanPassagens', ((1, 1), (1, 2))), ('pastilhasEmCampo', (('N', ((2, 1), (3, 7))), ('D', (4, 5)), ('C', (8, 3)))), ('ponto', 0), ('t', 1))>] Esta é a fronteira\n",
      "\n",
      "\n",
      "<Node (('posicaoPacman', (1, 2)), ('pacmanPassagens', ((1, 1), (1, 2))), ('pastilhasEmCampo', (('N', ((2, 1), (3, 7))), ('D', (4, 5)), ('C', (8, 3)))), ('ponto', 0), ('t', 1))> Este é Nó\n",
      "\n",
      "{(('posicaoPacman', (1, 2)), ('pacmanPassagens', ((1, 1), (1, 2))), ('pastilhasEmCampo', (('N', ((2, 1), (3, 7))), ('D', (4, 5)), ('C', (8, 3)))), ('ponto', 0), ('t', 1)), (('posicaoPacman', (1, 1)), ('pacmanPassagens', ((1, 1),)), ('pastilhasEmCampo', (('N', ((2, 1), (3, 7))), ('D', (4, 5)), ('C', (8, 3)))), ('ponto', 0), ('t', 0))} Este é explorado\n",
      "[<Node (('posicaoPacman', (2, 1)), ('pacmanPassagens', ((1, 1), (2, 1))), ('pastilhasEmCampo', (('N', ((3, 7),)), ('D', (4, 5)), ('C', (8, 3)))), ('ponto', 1), ('t', 1))>, <Node (('posicaoPacman', (1, 1)), ('pacmanPassagens', ((1, 1), (1, 2), (1, 1))), ('pastilhasEmCampo', (('N', ((2, 1), (3, 7))), ('D', (4, 5)), ('C', (8, 3)))), ('ponto', 0), ('t', 2))>, <Node (('posicaoPacman', (1, 3)), ('pacmanPassagens', ((1, 1), (1, 2), (1, 3))), ('pastilhasEmCampo', (('N', ((2, 1), (3, 7))), ('D', (4, 5)), ('C', (8, 3)))), ('ponto', 0), ('t', 2))>] Esta é a fronteira\n",
      "\n",
      "\n",
      "<Node (('posicaoPacman', (1, 3)), ('pacmanPassagens', ((1, 1), (1, 2), (1, 3))), ('pastilhasEmCampo', (('N', ((2, 1), (3, 7))), ('D', (4, 5)), ('C', (8, 3)))), ('ponto', 0), ('t', 2))> Este é Nó\n",
      "\n",
      "{(('posicaoPacman', (1, 2)), ('pacmanPassagens', ((1, 1), (1, 2))), ('pastilhasEmCampo', (('N', ((2, 1), (3, 7))), ('D', (4, 5)), ('C', (8, 3)))), ('ponto', 0), ('t', 1)), (('posicaoPacman', (1, 1)), ('pacmanPassagens', ((1, 1),)), ('pastilhasEmCampo', (('N', ((2, 1), (3, 7))), ('D', (4, 5)), ('C', (8, 3)))), ('ponto', 0), ('t', 0)), (('posicaoPacman', (1, 3)), ('pacmanPassagens', ((1, 1), (1, 2), (1, 3))), ('pastilhasEmCampo', (('N', ((2, 1), (3, 7))), ('D', (4, 5)), ('C', (8, 3)))), ('ponto', 0), ('t', 2))} Este é explorado\n",
      "[<Node (('posicaoPacman', (2, 1)), ('pacmanPassagens', ((1, 1), (2, 1))), ('pastilhasEmCampo', (('N', ((3, 7),)), ('D', (4, 5)), ('C', (8, 3)))), ('ponto', 1), ('t', 1))>, <Node (('posicaoPacman', (1, 1)), ('pacmanPassagens', ((1, 1), (1, 2), (1, 1))), ('pastilhasEmCampo', (('N', ((2, 1), (3, 7))), ('D', (4, 5)), ('C', (8, 3)))), ('ponto', 0), ('t', 2))>, <Node (('posicaoPacman', (1, 2)), ('pacmanPassagens', ((1, 1), (1, 2), (1, 3), (1, 2))), ('pastilhasEmCampo', (('N', ((2, 1), (3, 7))), ('D', (4, 5)), ('C', (8, 3)))), ('ponto', 0), ('t', 3))>, <Node (('posicaoPacman', (1, 4)), ('pacmanPassagens', ((1, 1), (1, 2), (1, 3), (1, 4))), ('pastilhasEmCampo', (('N', ((2, 1), (3, 7))), ('D', (4, 5)), ('C', (8, 3)))), ('ponto', 0), ('t', 3))>] Esta é a fronteira\n",
      "\n",
      "\n",
      "<Node (('posicaoPacman', (1, 4)), ('pacmanPassagens', ((1, 1), (1, 2), (1, 3), (1, 4))), ('pastilhasEmCampo', (('N', ((2, 1), (3, 7))), ('D', (4, 5)), ('C', (8, 3)))), ('ponto', 0), ('t', 3))> Este é Nó\n",
      "\n",
      "{(('posicaoPacman', (1, 2)), ('pacmanPassagens', ((1, 1), (1, 2))), ('pastilhasEmCampo', (('N', ((2, 1), (3, 7))), ('D', (4, 5)), ('C', (8, 3)))), ('ponto', 0), ('t', 1)), (('posicaoPacman', (1, 1)), ('pacmanPassagens', ((1, 1),)), ('pastilhasEmCampo', (('N', ((2, 1), (3, 7))), ('D', (4, 5)), ('C', (8, 3)))), ('ponto', 0), ('t', 0)), (('posicaoPacman', (1, 3)), ('pacmanPassagens', ((1, 1), (1, 2), (1, 3))), ('pastilhasEmCampo', (('N', ((2, 1), (3, 7))), ('D', (4, 5)), ('C', (8, 3)))), ('ponto', 0), ('t', 2)), (('posicaoPacman', (1, 4)), ('pacmanPassagens', ((1, 1), (1, 2), (1, 3), (1, 4))), ('pastilhasEmCampo', (('N', ((2, 1), (3, 7))), ('D', (4, 5)), ('C', (8, 3)))), ('ponto', 0), ('t', 3))} Este é explorado\n",
      "[<Node (('posicaoPacman', (2, 1)), ('pacmanPassagens', ((1, 1), (2, 1))), ('pastilhasEmCampo', (('N', ((3, 7),)), ('D', (4, 5)), ('C', (8, 3)))), ('ponto', 1), ('t', 1))>, <Node (('posicaoPacman', (1, 1)), ('pacmanPassagens', ((1, 1), (1, 2), (1, 1))), ('pastilhasEmCampo', (('N', ((2, 1), (3, 7))), ('D', (4, 5)), ('C', (8, 3)))), ('ponto', 0), ('t', 2))>, <Node (('posicaoPacman', (1, 2)), ('pacmanPassagens', ((1, 1), (1, 2), (1, 3), (1, 2))), ('pastilhasEmCampo', (('N', ((2, 1), (3, 7))), ('D', (4, 5)), ('C', (8, 3)))), ('ponto', 0), ('t', 3))>, <Node (('posicaoPacman', (1, 3)), ('pacmanPassagens', ((1, 1), (1, 2), (1, 3), (1, 4), (1, 3))), ('pastilhasEmCampo', (('N', ((2, 1), (3, 7))), ('D', (4, 5)), ('C', (8, 3)))), ('ponto', 0), ('t', 4))>, <Node (('posicaoPacman', (1, 5)), ('pacmanPassagens', ((1, 1), (1, 2), (1, 3), (1, 4), (1, 5))), ('pastilhasEmCampo', (('N', ((2, 1), (3, 7))), ('D', (4, 5)), ('C', (8, 3)))), ('ponto', 0), ('t', 4))>] Esta é a fronteira\n",
      "\n"
     ]
    }
   ],
   "source": [
    "def graph_search_teste(problem, frontier):\n",
    "    \"\"\"Search through the successors of a problem to find a goal.\n",
    "    The argument frontier should be an empty queue.\n",
    "    If two paths reach a state, only use the first one. [Figure 3.7]\"\"\"\n",
    "    frontier.append(Node(problem.initial))\n",
    "    explored = set()\n",
    "    count = 1\n",
    "    while frontier:\n",
    "        if count == 5:\n",
    "            break\n",
    "        node = frontier.pop()\n",
    "        print()\n",
    "        print(node,\"Este é Nó\")\n",
    "        if problem.goal_test(node.state):\n",
    "            return node\n",
    "        explored.add(node.state)\n",
    "        print()\n",
    "        print(explored,\"Este é explorado\")\n",
    "        frontier.extend(child for child in node.expand(problem)\n",
    "                        if child.state not in explored and\n",
    "                        child not in frontier)\n",
    "        print(frontier,\"Esta é a fronteira\")\n",
    "        count +=1\n",
    "        print()\n",
    "    return None\n",
    "\n",
    "def depth_first_graph_search_teste(problem):\n",
    "    \"\"\"Search the deepest nodes in the search tree first.\"\"\"\n",
    "    return graph_search_teste(problem, Stack())\n",
    "\n",
    "dfgs = depth_first_graph_search_teste(p)"
   ]
  },
  {
   "cell_type": "markdown",
   "id": "9e115e26",
   "metadata": {},
   "source": [
    "Como podemos ver, o nosso Pacman comilão ja passou pela posição (1,1) com certos atributos num certa altura, mas é possivel ver que ele **acrescenta a fronteira outra vez porque essa mesma posição contém outros atributos completamente diferentes**, logo esses dois nós não são iguais. <br>\n",
    "É este o indicativo que nos permite ver que a profundidade primeiro em grafo pode entrar num ciclo infinito, algo que normalmente não costuma acontecer. "
   ]
  },
  {
   "cell_type": "markdown",
   "id": "9668f699",
   "metadata": {},
   "source": [
    "### Largura-Primeiro em (grafo)\n",
    "Na procura em largura primeiro em grafo, tal como na profundidade primeiro em grafo é preciso guardar os estados expandidos num conjunto e também filtrar os estados sucessores, evitando os já expandidos ou aqueles que são terminais dos caminhos na fronteira, ou seja, os não expandidos mas na fronteira).\n",
    "\n",
    "Vamos aplicar a procura Largura-Primeiro em (grafo) sobre o nosso problema anterior e posteriormente aplicar o display de modo a visualizarmos o estado inicial e a solução.."
   ]
  },
  {
   "cell_type": "code",
   "execution_count": 34,
   "id": "8241533d",
   "metadata": {},
   "outputs": [
    {
     "name": "stdout",
     "output_type": "stream",
     "text": [
      "= = = = = = = = = = \n",
      "= @ N . . . . . . = \n",
      "= . = = = = = = . = \n",
      "= . = . . . . . C = \n",
      "= . = . . . . . . = \n",
      "= . = . D . . . . = \n",
      "= . = . . . . . . = \n",
      "= . . N . . . . . = \n",
      "= . . . . . . . . = \n",
      "= = = = = = = = = = \n",
      "\n",
      "O nó resultante da procura em Aprofundamento progressivo é: <Node (('posicaoPacman', (8, 3)), ('pacmanPassagens', ((1, 1), (2, 1), (3, 1), (4, 1), (5, 1), (6, 1), (7, 1), (8, 1), (8, 2), (8, 3))), ('pastilhasEmCampo', (('N', ((3, 7),)), ('D', (4, 5)))), ('ponto', 10), ('t', 9))>\n",
      "\n",
      "As ações aplicadas ao estado foram: [('E', (2, 1)), ('E', (3, 1)), ('E', (4, 1)), ('E', (5, 1)), ('E', (6, 1)), ('E', (7, 1)), ('E', (8, 1)), ('S', (8, 2)), ('S', (8, 3))]\n",
      "\n",
      "= = = = = = = = = = \n",
      "= + + + + + + + + = \n",
      "= . = = = = = = + = \n",
      "= . = . . . . . @ = \n",
      "= . = . . . . . . = \n",
      "= . = . D . . . . = \n",
      "= . = . . . . . . = \n",
      "= . . N . . . . . = \n",
      "= . . . . . . . . = \n",
      "= = = = = = = = = = \n"
     ]
    }
   ],
   "source": [
    "def breadth_first_graph_search(problem):\n",
    "    \"\"\"Search the deepest nodes in the search tree first.\"\"\"\n",
    "    return graph_search(problem, FIFOQueue())\n",
    "\n",
    "bfgs = breadth_first_graph_search(p) \n",
    "p.display(p.initial)\n",
    "print()\n",
    "print(\"O nó resultante da procura em Aprofundamento progressivo é:\",bfgs)\n",
    "print()\n",
    "print(\"As ações aplicadas ao estado foram:\",bfgs.solution())\n",
    "print()\n",
    "p.display(bfgs.state)"
   ]
  },
  {
   "cell_type": "markdown",
   "id": "8b8e5804",
   "metadata": {},
   "source": [
    "### Aprofundamento Progressivo\n",
    "Se aplicarmos o aprofundamento progressivo não teremos também a garantia de encontrar a solução óptima porque os custos não são homogéneos. <br>\n",
    "**Este algoritmo garante a solução mais próxima do estado inicial, em termos de número de acções,** como a procura em largura, mas com um custo menor do que a largura em termos de memória utilizada.\n",
    "Ele começa por fazer uma procura limitada ao estado inicial e à profundidade 0, depois limitada à profundidade 1, a seguir limitada à profundidade 2, etc. etc., evitando os ciclos até encontrar uma solução que esteja mais próxima da raíz da árvore em termos do número de movimentos ou acções.\n",
    "\n",
    "Vamos aplicar a procura em Aprofundamento Progressivo sobre o nosso problema anterior e posteriormente aplicar o display de modo a visualizarmos o estado inicial e a solução."
   ]
  },
  {
   "cell_type": "code",
   "execution_count": 35,
   "id": "06f01bad",
   "metadata": {},
   "outputs": [
    {
     "name": "stdout",
     "output_type": "stream",
     "text": [
      "= = = = = = = = = = \n",
      "= @ N . . . . . . = \n",
      "= . = = = = = = . = \n",
      "= . = . . . . . C = \n",
      "= . = . . . . . . = \n",
      "= . = . D . . . . = \n",
      "= . = . . . . . . = \n",
      "= . . N . . . . . = \n",
      "= . . . . . . . . = \n",
      "= = = = = = = = = = \n",
      "\n",
      "O nó resultante da procura em Aprofundamento progressivo é: <Node (('posicaoPacman', (8, 3)), ('pacmanPassagens', ((1, 1), (2, 1), (3, 1), (4, 1), (5, 1), (6, 1), (7, 1), (8, 1), (8, 2), (8, 3))), ('pastilhasEmCampo', (('N', ((3, 7),)), ('D', (4, 5)))), ('ponto', 10), ('t', 9))>\n",
      "\n",
      "As ações aplicadas ao estado foram: [('E', (2, 1)), ('E', (3, 1)), ('E', (4, 1)), ('E', (5, 1)), ('E', (6, 1)), ('E', (7, 1)), ('E', (8, 1)), ('S', (8, 2)), ('S', (8, 3))]\n",
      "\n",
      "= = = = = = = = = = \n",
      "= + + + + + + + + = \n",
      "= . = = = = = = + = \n",
      "= . = . . . . . @ = \n",
      "= . = . . . . . . = \n",
      "= . = . D . . . . = \n",
      "= . = . . . . . . = \n",
      "= . . N . . . . . = \n",
      "= . . . . . . . . = \n",
      "= = = = = = = = = = \n"
     ]
    }
   ],
   "source": [
    "ids = iterative_deepening_search(p) \n",
    "p.display(p.initial)\n",
    "print()\n",
    "print(\"O nó resultante da procura em Aprofundamento progressivo é:\",ids)\n",
    "print()\n",
    "print(\"As ações aplicadas ao estado foram:\",ids.solution())\n",
    "print()\n",
    "p.display(ids.state)"
   ]
  },
  {
   "cell_type": "markdown",
   "id": "d987231d",
   "metadata": {},
   "source": [
    "### Custo Uniforme\n",
    "Se aplicarmos a procura de custo uniforme **teremos sempre a solução óptima**. "
   ]
  },
  {
   "cell_type": "code",
   "execution_count": 36,
   "id": "dbbba696",
   "metadata": {},
   "outputs": [
    {
     "name": "stdout",
     "output_type": "stream",
     "text": [
      "= = = = = = = = = = \n",
      "= @ N . . . . . . = \n",
      "= . = = = = = = . = \n",
      "= . = . . . . . C = \n",
      "= . = . . . . . . = \n",
      "= . = . D . . . . = \n",
      "= . = . . . . . . = \n",
      "= . . N . . . . . = \n",
      "= . . . . . . . . = \n",
      "= = = = = = = = = = \n",
      "\n",
      "O nó resultante da procura em Aprofundamento progressivo é: <Node (('posicaoPacman', (8, 3)), ('pacmanPassagens', ((1, 1), (2, 1), (3, 1), (4, 1), (5, 1), (6, 1), (7, 1), (8, 1), (8, 2), (8, 3))), ('pastilhasEmCampo', (('N', ((3, 7),)), ('D', (4, 5)))), ('ponto', 10), ('t', 9))>\n",
      "\n",
      "As ações aplicadas ao estado foram: [('E', (2, 1)), ('E', (3, 1)), ('E', (4, 1)), ('E', (5, 1)), ('E', (6, 1)), ('E', (7, 1)), ('E', (8, 1)), ('S', (8, 2)), ('S', (8, 3))]\n",
      "\n",
      "= = = = = = = = = = \n",
      "= + + + + + + + + = \n",
      "= . = = = = = = + = \n",
      "= . = . . . . . @ = \n",
      "= . = . . . . . . = \n",
      "= . = . D . . . . = \n",
      "= . = . . . . . . = \n",
      "= . . N . . . . . = \n",
      "= . . . . . . . . = \n",
      "= = = = = = = = = = \n"
     ]
    }
   ],
   "source": [
    "ucs = uniform_cost_search(p) \n",
    "p.display(p.initial)\n",
    "print()\n",
    "print(\"O nó resultante da procura em Aprofundamento progressivo é:\",ids)\n",
    "print()\n",
    "print(\"As ações aplicadas ao estado foram:\",ucs.solution())\n",
    "print()\n",
    "p.display(ucs.state)"
   ]
  },
  {
   "cell_type": "markdown",
   "id": "967d9205",
   "metadata": {},
   "source": [
    "### Comparação dos resultados ao nível de tempo de execução\n",
    "\n",
    "Dentro dos algoritmos de procura que vimos anteriormente, vamos comparar aqueles que não entram em loop em termos de tempo, ou seja, vamos descobrir quem é o mais rápido."
   ]
  },
  {
   "cell_type": "markdown",
   "id": "388e4ab7",
   "metadata": {},
   "source": [
    "#### Tempo de execução do algoritmo Largura-Primeiro (árvore)"
   ]
  },
  {
   "cell_type": "code",
   "execution_count": 49,
   "id": "ad527af4",
   "metadata": {},
   "outputs": [
    {
     "name": "stdout",
     "output_type": "stream",
     "text": [
      "O tempo de execução da Largura-Primeiro (árvore): 0.0848599999999351\n"
     ]
    }
   ],
   "source": [
    "import timeit\n",
    "\n",
    "start = timeit.default_timer()\n",
    "bfts = breadth_first_tree_search(p) \n",
    "final_bfts = timeit.default_timer() - start \n",
    "\n",
    "print(\"O tempo de execução da Largura-Primeiro (árvore):\",final_bfts)\n"
   ]
  },
  {
   "cell_type": "markdown",
   "id": "0db1f3c9",
   "metadata": {},
   "source": [
    "#### Tempo de execução do algoritmo Largura-Primeiro (grafo)"
   ]
  },
  {
   "cell_type": "code",
   "execution_count": 50,
   "id": "a2039b2d",
   "metadata": {},
   "outputs": [
    {
     "name": "stdout",
     "output_type": "stream",
     "text": [
      "O tempo de execução do Largura-Primeiro (grafo): 0.2960712999997668\n"
     ]
    }
   ],
   "source": [
    "start = timeit.default_timer()\n",
    "bfgs = breadth_first_graph_search(p)\n",
    "final_bfgs = timeit.default_timer() - start \n",
    "\n",
    "print(\"O tempo de execução do Largura-Primeiro (grafo):\",final_bfgs) "
   ]
  },
  {
   "cell_type": "markdown",
   "id": "86babfec",
   "metadata": {},
   "source": [
    "#### Tempo de execução do algoritmo Aprofundamento-Progressivo (grafo)"
   ]
  },
  {
   "cell_type": "code",
   "execution_count": 51,
   "id": "d005ed76",
   "metadata": {},
   "outputs": [
    {
     "name": "stdout",
     "output_type": "stream",
     "text": [
      "O tempo de execução do Aprofundamento-Progressivo (árvore): 0.0643632000001162\n"
     ]
    }
   ],
   "source": [
    "start = timeit.default_timer()\n",
    "ids = iterative_deepening_search(p) \n",
    "final_ids = timeit.default_timer() - start \n",
    "\n",
    "print(\"O tempo de execução do Aprofundamento-Progressivo (árvore):\",final_ids) "
   ]
  },
  {
   "cell_type": "markdown",
   "id": "c29b8e9b",
   "metadata": {},
   "source": [
    "#### Tempo de execução do algoritmo Custo uniforme"
   ]
  },
  {
   "cell_type": "code",
   "execution_count": 52,
   "id": "19d0119e",
   "metadata": {},
   "outputs": [
    {
     "name": "stdout",
     "output_type": "stream",
     "text": [
      "O tempo de execução do custo uniforme: 0.06069169999955193\n"
     ]
    }
   ],
   "source": [
    "start = timeit.default_timer()\n",
    "ucs = uniform_cost_search(p) \n",
    "final_ucs = timeit.default_timer() - start \n",
    "\n",
    "print(\"O tempo de execução do custo uniforme:\",final_ucs) \n"
   ]
  },
  {
   "cell_type": "markdown",
   "id": "d3578b0f",
   "metadata": {},
   "source": [
    "### Quem é o mais eficiente ?\n",
    "Depois desta análise, conseguimos afirmar que para obter a solução ideal para um determinado problema o uso do algoritmo do custo uniforme é a melhor solução.\n",
    "A nível do tempo de execução do programa, o custo uniforme também é melhor. "
   ]
  }
 ],
 "metadata": {
  "kernelspec": {
   "display_name": "Python 3 (ipykernel)",
   "language": "python",
   "name": "python3"
  },
  "language_info": {
   "codemirror_mode": {
    "name": "ipython",
    "version": 3
   },
   "file_extension": ".py",
   "mimetype": "text/x-python",
   "name": "python",
   "nbconvert_exporter": "python",
   "pygments_lexer": "ipython3",
   "version": "3.9.7"
  }
 },
 "nbformat": 4,
 "nbformat_minor": 5
}
